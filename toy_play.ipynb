{
 "cells": [
  {
   "cell_type": "code",
   "execution_count": 1,
   "id": "0fd362af-2896-4c99-ad3a-306f6858f8b3",
   "metadata": {},
   "outputs": [],
   "source": [
    "import numpy as np\n",
    "import matplotlib.pyplot as plt\n",
    "\n",
    "import uproot\n",
    "import awkward as ak\n",
    "import pandas as pd\n",
    "import hist\n",
    "from hist import Hist\n",
    "\n",
    "import torch\n",
    "from torch.utils.data import TensorDataset, DataLoader\n",
    "\n",
    "from sklearn.model_selection import train_test_split\n",
    "from sklearn.preprocessing import StandardScaler\n",
    "from sklearn.metrics import r2_score\n",
    "\n",
    "import re"
   ]
  },
  {
   "cell_type": "code",
   "execution_count": 2,
   "id": "98b9dcfe-4361-47cb-99b3-8129735292fa",
   "metadata": {},
   "outputs": [],
   "source": [
    "file = uproot.open(\"toy_hist.root\")"
   ]
  },
  {
   "cell_type": "code",
   "execution_count": 3,
   "id": "a081bc24-576f-4d26-9e39-a9d2d9a795da",
   "metadata": {},
   "outputs": [],
   "source": [
    "def get_matrix(hist2D): \n",
    "    matrix , edge1, edge2 = hist2D.to_numpy()\n",
    "    scaler = StandardScaler()\n",
    "    matrix_scale = scaler.fit_transform(matrix)\n",
    "    \n",
    "    return matrix_scale"
   ]
  },
  {
   "cell_type": "code",
   "execution_count": 4,
   "id": "ab4793b6-6da0-4c4a-afcc-c6209686389c",
   "metadata": {},
   "outputs": [],
   "source": [
    "class data_set(torch.utils.data.Dataset):\n",
    "    def __init__(self, images, labels):\n",
    "        self.images = torch.Tensor(images)\n",
    "        self.labels = torch.Tensor(labels)\n",
    "\n",
    "    def __getitem__(self, index):\n",
    "        return self.images[index], self.labels[index]\n",
    "\n",
    "    def __len__(self):\n",
    "        return len(self.labels)"
   ]
  },
  {
   "cell_type": "code",
   "execution_count": 5,
   "id": "0914f973-9139-4ba3-bf13-8bbd2339e30c",
   "metadata": {},
   "outputs": [],
   "source": [
    "X, y = [], []\n",
    "\n",
    "for item in file:\n",
    "    X.append(get_matrix(file[item].to_hist()))\n",
    "    p = re.compile(r'\\d+\\.\\d+')\n",
    "    y.append([float(i) for i in p.findall(item)])\n",
    "    \n",
    "X = np.array(X)\n",
    "y = np.array(y)"
   ]
  },
  {
   "cell_type": "code",
   "execution_count": 6,
   "id": "1dc141c8-5c2b-4282-acf3-ccab23686e2f",
   "metadata": {},
   "outputs": [],
   "source": [
    "X_train, X_val, y_train, y_val = train_test_split(X, y, test_size=0.3, shuffle=True)"
   ]
  },
  {
   "cell_type": "code",
   "execution_count": 7,
   "id": "cbd47344-262e-43ed-95a4-51fb63a18e8f",
   "metadata": {},
   "outputs": [
    {
     "name": "stdout",
     "output_type": "stream",
     "text": [
      "*** train data set shape : inputs = (42000, 20, 20) & target = (42000, 3)\n",
      "*** validation data set shape : inputs = (18000, 20, 20) & target = (18000, 3)\n"
     ]
    }
   ],
   "source": [
    "print(\"*** train data set shape : inputs = {} & target = {}\".format(X_train.shape, y_train.shape))\n",
    "print(\"*** validation data set shape : inputs = {} & target = {}\".format(X_val.shape, y_val.shape))"
   ]
  },
  {
   "cell_type": "code",
   "execution_count": 8,
   "id": "ab3f4e0b-a82b-4f92-8e08-59a77ac8a3fe",
   "metadata": {},
   "outputs": [
    {
     "data": {
      "image/png": "[encoded data removed]",
      "text/plain": [
       "<Figure size 640x480 with 1 Axes>"
      ]
     },
     "metadata": {},
     "output_type": "display_data"
    }
   ],
   "source": [
    "plt.imshow(X_train[0], cmap='gray')\n",
    "plt.savefig(\"imgs/gray_toy.png\")"
   ]
  },
  {
   "cell_type": "code",
   "execution_count": 9,
   "id": "fec55c72-9da9-4a54-9a86-f11239072f3e",
   "metadata": {},
   "outputs": [],
   "source": [
    "batch_size = 15\n",
    "\n",
    "train_dataloader = DataLoader(\n",
    "    data_set(\n",
    "        torch.Tensor(X_train).unsqueeze(1),\n",
    "        torch.Tensor(y_train)\n",
    "    ),\n",
    "    batch_size=batch_size,\n",
    "    shuffle=True\n",
    ")\n",
    "\n",
    "val_dataloader = DataLoader(\n",
    "    data_set(\n",
    "        torch.Tensor(X_val).unsqueeze(1),\n",
    "        torch.Tensor(y_val)\n",
    "    ),\n",
    "    batch_size=batch_size,\n",
    "    shuffle=False\n",
    ")"
   ]
  },
  {
   "cell_type": "code",
   "execution_count": 10,
   "id": "2d8e940b-4a03-42df-b997-e298e3fbd9d2",
   "metadata": {},
   "outputs": [],
   "source": [
    "import torch.nn as nn\n",
    "import torch.nn.functional as F\n",
    "from torch.nn import Linear\n",
    "\n",
    "class CNN(nn.Module):\n",
    "    def __init__(self):\n",
    "        super(CNN, self).__init__()\n",
    "        self.conv1 = torch.nn.Conv2d(1, 6, 5, padding=2)\n",
    "        self.pool1 = torch.nn.MaxPool2d(2, 2)\n",
    "        self.conv2 = torch.nn.Conv2d(6, 16, 5)\n",
    "        self.pool2 = torch.nn.MaxPool2d(2, 2)\n",
    "        self.fc1 = torch.nn.Linear(16*3*3, 120)\n",
    "        # self.dropout = torch.nn.Dropout(p=0.2)\n",
    "        # self.fc2 = torch.nn.Linear(250, 120)\n",
    "        self.fc3 = torch.nn.Linear(120, 3)\n",
    "\n",
    "    def forward(self, x):\n",
    "        x = F.relu(self.conv1(x))\n",
    "        x = self.pool1(x)\n",
    "        x = F.relu(self.conv2(x))\n",
    "        x = self.pool2(x)\n",
    "        x = x.view(-1, 16*3*3)\n",
    "        x = F.relu(self.fc1(x))\n",
    "        # x = self.dropout(x)\n",
    "        # x = F.relu(self.fc2(x))\n",
    "        # x = F.relu(self.fc3(x))\n",
    "        x = self.fc3(x)\n",
    "        return x"
   ]
  },
  {
   "cell_type": "code",
   "execution_count": 11,
   "id": "72e90fea-c4d7-445b-ad91-fc54e2221a0b",
   "metadata": {},
   "outputs": [
    {
     "name": "stdout",
     "output_type": "stream",
     "text": [
      "CNN(\n",
      "  (conv1): Conv2d(1, 6, kernel_size=(5, 5), stride=(1, 1), padding=(2, 2))\n",
      "  (pool1): MaxPool2d(kernel_size=2, stride=2, padding=0, dilation=1, ceil_mode=False)\n",
      "  (conv2): Conv2d(6, 16, kernel_size=(5, 5), stride=(1, 1))\n",
      "  (pool2): MaxPool2d(kernel_size=2, stride=2, padding=0, dilation=1, ceil_mode=False)\n",
      "  (fc1): Linear(in_features=144, out_features=120, bias=True)\n",
      "  (fc3): Linear(in_features=120, out_features=3, bias=True)\n",
      ")\n"
     ]
    }
   ],
   "source": [
    "net = CNN()\n",
    "\n",
    "print(net)"
   ]
  },
  {
   "cell_type": "code",
   "execution_count": 12,
   "id": "de1cb85a-37bf-4bb8-91cb-d7a8ee93c623",
   "metadata": {},
   "outputs": [],
   "source": [
    "class AverageMeter(object):\n",
    "    \"\"\"Computes and stores the average and current value\"\"\"\n",
    "    def __init__(self, name, fmt=':1.5f'):\n",
    "        self.name = name\n",
    "        self.fmt = fmt\n",
    "        self.reset()\n",
    "\n",
    "    def reset(self):\n",
    "        self.avg = 0\n",
    "        self.sum = 0\n",
    "        self.count = 0\n",
    "\n",
    "    def update(self, val, n=1):\n",
    "        self.sum += val * n\n",
    "        self.count += n\n",
    "        self.avg = self.sum / self.count\n",
    "\n",
    "    def __str__(self):\n",
    "        fmtstr = '{avg' + self.fmt + '} ({name})'\n",
    "        return fmtstr.format(**self.__dict__)"
   ]
  },
  {
   "cell_type": "code",
   "execution_count": 13,
   "id": "91147d65-57ab-4b5f-90fd-d4245d967836",
   "metadata": {},
   "outputs": [],
   "source": [
    "criterion = torch.nn.MSELoss()\n",
    "optimizer = torch.optim.Adam(net.parameters(), lr=0.001, weight_decay=1.0e-03)\n",
    "epochs = 50"
   ]
  },
  {
   "cell_type": "code",
   "execution_count": 14,
   "id": "62bee137-e94b-4a83-86b2-a59b8a861772",
   "metadata": {},
   "outputs": [],
   "source": [
    "loss = AverageMeter('Loss')\n",
    "train_loss, val_loss = [], []\n",
    "\n",
    "# Iterate over the dataset <epochs> times\n",
    "for epoch in range(epochs):\n",
    "\n",
    "    # Set the model to training mode\n",
    "    net.train()\n",
    "    # Reset our meters\n",
    "    loss.reset()\n",
    "\n",
    "    # Iterate over batches\n",
    "    for inputs, targets in train_dataloader:\n",
    "\n",
    "        # Remove previous gradients\n",
    "        optimizer.zero_grad()\n",
    "        \n",
    "        # Feed forward the input\n",
    "        outputs = net(inputs)\n",
    "\n",
    "        # Compute the loss and accuracy\n",
    "        loss_batch = criterion(outputs, targets)\n",
    "        loss.update(loss_batch.data)\n",
    "\n",
    "        # Compute the gradients\n",
    "        loss_batch.backward()\n",
    "\n",
    "        # Update parameters\n",
    "        optimizer.step()\n",
    "        \n",
    "    train_loss.append(loss.avg)\n",
    "    \n",
    "    # Validation for each epoch\n",
    "    net.eval()\n",
    "    loss.reset()\n",
    "\n",
    "    for inputs, targets in val_dataloader:\n",
    "\n",
    "        outputs = net(inputs)\n",
    "\n",
    "        loss_batch = criterion(outputs, targets)\n",
    "        loss.update(loss_batch.data)\n",
    "\n",
    "    val_loss.append(loss.avg)"
   ]
  },
  {
   "cell_type": "code",
   "execution_count": 15,
   "id": "ff0362e0-edf7-4033-90bf-427c5b902228",
   "metadata": {},
   "outputs": [
    {
     "data": {
      "image/png": "[encoded data removed]",
      "text/plain": [
       "<Figure size 640x480 with 1 Axes>"
      ]
     },
     "metadata": {},
     "output_type": "display_data"
    }
   ],
   "source": [
    "plt.plot(train_loss, label='training')\n",
    "plt.plot(val_loss, label='validating')\n",
    "plt.legend()\n",
    "plt.savefig(\"imgs/loss_toy.png\")"
   ]
  },
  {
   "cell_type": "code",
   "execution_count": 16,
   "id": "bae50d53-d147-45f4-a728-8bb2ced84ed7",
   "metadata": {},
   "outputs": [],
   "source": [
    "file2 = uproot.open(\"test_toy.root\")\n",
    "\n",
    "X_test = []\n",
    "\n",
    "for item in file2:\n",
    "    X_test.append(get_matrix(file2[item].to_hist()))\n",
    "\n",
    "    \n",
    "X_test = np.array(X_test)"
   ]
  },
  {
   "cell_type": "code",
   "execution_count": 17,
   "id": "484e65d1-81ca-437a-94b6-5091d05c2cd7",
   "metadata": {},
   "outputs": [
    {
     "name": "stdout",
     "output_type": "stream",
     "text": [
      "lambda = 0.6492 +/- 0.0098\n",
      "mu = 0.4881 +/- 0.0620\n",
      "nu = 0.2280 +/- 0.0686\n"
     ]
    }
   ],
   "source": [
    "net.eval()\n",
    "\n",
    "results = net(torch.Tensor(X_test).unsqueeze(1)).detach().numpy()\n",
    "\n",
    "lam = np.mean(results[:, 0])\n",
    "lam_std = np.std(results[:, 0])\n",
    "\n",
    "mu = np.mean(results[:, 1])\n",
    "mu_std = np.std(results[:, 1])\n",
    "\n",
    "nu = np.mean(results[:, 2])\n",
    "nu_std = np.std(results[:, 2])\n",
    "\n",
    "print(\"lambda = {:.4f} +/- {:.4f}\".format(lam, lam_std))\n",
    "print(\"mu = {:.4f} +/- {:.4f}\".format(mu, mu_std))\n",
    "print(\"nu = {:.4f} +/- {:.4f}\".format(nu, nu_std))"
   ]
  },
  {
   "cell_type": "code",
   "execution_count": null,
   "id": "6e54bafe-e484-4510-83e5-04fbea50273d",
   "metadata": {},
   "outputs": [],
   "source": []
  }
 ],
 "metadata": {
  "kernelspec": {
   "display_name": "Python 3 (ipykernel)",
   "language": "python",
   "name": "python3"
  },
  "language_info": {
   "codemirror_mode": {
    "name": "ipython",
    "version": 3
   },
   "file_extension": ".py",
   "mimetype": "text/x-python",
   "name": "python",
   "nbconvert_exporter": "python",
   "pygments_lexer": "ipython3",
   "version": "3.9.15"
  }
 },
 "nbformat": 4,
 "nbformat_minor": 5
}
