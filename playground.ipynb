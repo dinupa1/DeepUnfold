{
 "cells": [
  {
   "cell_type": "code",
   "execution_count": 1,
   "id": "dd12080a-080c-4d72-bae6-26369d807ef5",
   "metadata": {},
   "outputs": [],
   "source": [
    "import numpy as np\n",
    "import matplotlib.pyplot as plt\n",
    "\n",
    "import uproot\n",
    "import awkward as ak\n",
    "import pandas as pd\n",
    "import hist\n",
    "from hist import Hist\n",
    "\n",
    "import torch\n",
    "from torch.utils.data import TensorDataset, DataLoader\n",
    "\n",
    "from sklearn.model_selection import train_test_split"
   ]
  },
  {
   "cell_type": "code",
   "execution_count": 2,
   "id": "5224ef2d-6818-48a9-9689-dc97f77c03e0",
   "metadata": {},
   "outputs": [],
   "source": [
    "PI = np.pi\n",
    "PHI_BINS, COSTH_BINS = 20, 20\n",
    "EPOCHS = 20\n",
    "BATCH_SIZE = 10\n",
    "\n",
    "SPLIT_SIZE = 293"
   ]
  },
  {
   "cell_type": "code",
   "execution_count": 3,
   "id": "4210f3f4-54de-493f-9ad3-cb6568f1cfa1",
   "metadata": {},
   "outputs": [],
   "source": [
    "tree = uproot.open(\"DY_DUMP_4pi_GMC_Jan08_LD2.root:result_mc\")\n",
    "\n",
    "# tree.keys()"
   ]
  },
  {
   "cell_type": "code",
   "execution_count": 4,
   "id": "dbcb41bf-bba7-4f3e-9ef4-aa5657d9ab3a",
   "metadata": {},
   "outputs": [],
   "source": [
    "X = tree.arrays(['phi', 'costh', 'weight'],\n",
    "                '(fpga1==1) & (mass > 0.0) & (4.5 < true_mass) & (true_mass < 8.0)', library='pd').to_numpy()"
   ]
  },
  {
   "cell_type": "code",
   "execution_count": 5,
   "id": "0f92ef56-ce50-4cf8-839e-235a5859f6b7",
   "metadata": {},
   "outputs": [],
   "source": [
    "from sklearn.preprocessing import StandardScaler\n",
    "\n",
    "def get_matrix(array):\n",
    "    \n",
    "    hist2D = Hist(\n",
    "        hist.axis.Regular(PHI_BINS, -PI, PI, name=\"phi_cs\"),\n",
    "        hist.axis.Regular(COSTH_BINS, -1.0, 1.0, name=\"costh_cs\"),\n",
    "    )\n",
    "    \n",
    "    hist2D.fill(array[:, 0], array[:, 1], weight=array[:, 2])\n",
    "    \n",
    "    matrix , edge1, edge2 = hist2D.to_numpy()\n",
    "    scaler = StandardScaler()\n",
    "    matrix_scale = scaler.fit_transform(matrix)\n",
    "    \n",
    "    return matrix_scale"
   ]
  },
  {
   "cell_type": "code",
   "execution_count": 6,
   "id": "1c27efd9-403b-4fa6-8eea-343c88b6f8c7",
   "metadata": {},
   "outputs": [],
   "source": [
    "X_array = np.array(np.vsplit(X, SPLIT_SIZE))"
   ]
  },
  {
   "cell_type": "code",
   "execution_count": 7,
   "id": "10b08db0-c597-4e8d-9aba-f81a803124cb",
   "metadata": {},
   "outputs": [],
   "source": [
    "data = []\n",
    "\n",
    "\n",
    "for item in X_array:\n",
    "    data.append(get_matrix(item))\n",
    "    \n",
    "data = np.array(data)\n",
    "\n",
    "y = np.tile(np.array([1.0, 0.0, 0.0]), (data.shape[0], 1))"
   ]
  },
  {
   "cell_type": "code",
   "execution_count": 8,
   "id": "e8e10dbc-9e19-4135-9a22-ec06bcd88cc6",
   "metadata": {},
   "outputs": [
    {
     "name": "stdout",
     "output_type": "stream",
     "text": [
      "(293, 20, 20) (293, 3)\n"
     ]
    }
   ],
   "source": [
    "print(data.shape, y.shape)"
   ]
  },
  {
   "cell_type": "code",
   "execution_count": 9,
   "id": "e94b7094-343d-4b6b-bb89-68115b28be09",
   "metadata": {},
   "outputs": [],
   "source": [
    "X_train_val, X_test, y_train_val, y_test = train_test_split(data, y, test_size=0.2, shuffle=True)\n",
    "X_train, X_val, y_train, y_val = train_test_split(X_train_val, y_train_val, test_size=0.25, shuffle=True)"
   ]
  },
  {
   "cell_type": "code",
   "execution_count": 10,
   "id": "d0cb9fda-ece2-4a31-85bd-c84222e93271",
   "metadata": {},
   "outputs": [
    {
     "name": "stdout",
     "output_type": "stream",
     "text": [
      "*** train data set shape : inputs = (175, 20, 20) & target = (175, 3)\n",
      "*** validation data set shape : inputs = (59, 20, 20) & target = (59, 3)\n",
      "*** test data set shape : inputs = (59, 20, 20) & target = (59, 3)\n"
     ]
    }
   ],
   "source": [
    "print(\"*** train data set shape : inputs = {} & target = {}\".format(X_train.shape, y_train.shape))\n",
    "print(\"*** validation data set shape : inputs = {} & target = {}\".format(X_val.shape, y_val.shape))\n",
    "print(\"*** test data set shape : inputs = {} & target = {}\".format(X_test.shape, y_test.shape))"
   ]
  },
  {
   "cell_type": "code",
   "execution_count": 11,
   "id": "96acb3ca-5b2e-423a-adb6-c0d3948680fd",
   "metadata": {},
   "outputs": [],
   "source": [
    "class data_set(torch.utils.data.Dataset):\n",
    "    def __init__(self, images, labels):\n",
    "        self.images = torch.Tensor(images)\n",
    "        self.labels = torch.Tensor(labels)\n",
    "\n",
    "    def __getitem__(self, index):\n",
    "        return self.images[index], self.labels[index]\n",
    "\n",
    "    def __len__(self):\n",
    "        return len(self.labels)"
   ]
  },
  {
   "cell_type": "code",
   "execution_count": 12,
   "id": "26098613-ee35-4a76-8c67-60732d89b41f",
   "metadata": {},
   "outputs": [],
   "source": [
    "train_dataloader = DataLoader(\n",
    "    data_set(\n",
    "        torch.Tensor(X_train).unsqueeze(1),\n",
    "        torch.Tensor(y_train)\n",
    "    ),\n",
    "    batch_size=BATCH_SIZE,\n",
    "    shuffle=True\n",
    ")\n",
    "\n",
    "val_dataloader = DataLoader(\n",
    "    data_set(\n",
    "        torch.Tensor(X_val).unsqueeze(1),\n",
    "        torch.Tensor(y_val)\n",
    "    ),\n",
    "    batch_size=BATCH_SIZE,\n",
    "    shuffle=False\n",
    ")"
   ]
  },
  {
   "cell_type": "code",
   "execution_count": 13,
   "id": "23ee01f5-8e98-442e-abe7-d38fd44b8fcf",
   "metadata": {},
   "outputs": [],
   "source": [
    "import torch.nn as nn\n",
    "import torch.nn.functional as F\n",
    "from torch.nn import Linear\n",
    "\n",
    "class Net(nn.Module):\n",
    "    def __init__(self):\n",
    "        super(Net, self).__init__()\n",
    "        self.conv1 = torch.nn.Conv2d(1, 3, 2, padding=2)\n",
    "        self.pool1 = torch.nn.AvgPool2d(2, 2)\n",
    "        self.conv2 = torch.nn.Conv2d(3, 6, 2)\n",
    "        self.pool2 = torch.nn.AvgPool2d(2, 2)\n",
    "        self.fc1 = torch.nn.Linear(150, 10)\n",
    "        self.fc2 = torch.nn.Linear(10, 3)\n",
    "\n",
    "    def forward(self, x):\n",
    "        x = F.relu(self.conv1(x))\n",
    "        x = self.pool1(x)\n",
    "        x = F.relu(self.conv2(x))\n",
    "        x = self.pool2(x)\n",
    "        x = x.view(-1, 150)\n",
    "        x = F.relu(self.fc1(x))\n",
    "        x = self.fc2(x)\n",
    "        return x"
   ]
  },
  {
   "cell_type": "code",
   "execution_count": 14,
   "id": "375491bc-cffe-458e-bb3e-737b69e310e2",
   "metadata": {},
   "outputs": [],
   "source": [
    "net = Net()"
   ]
  },
  {
   "cell_type": "code",
   "execution_count": 15,
   "id": "0d85606a-7648-44bd-8e0b-4a580f1ddfba",
   "metadata": {},
   "outputs": [],
   "source": [
    "criterion = torch.nn.MSELoss()\n",
    "optimizer = torch.optim.Adam(net.parameters(), lr=0.01, weight_decay=0.001)"
   ]
  },
  {
   "cell_type": "code",
   "execution_count": 16,
   "id": "8309e4f4-a478-40a3-9587-14c4115f609b",
   "metadata": {},
   "outputs": [],
   "source": [
    "class AverageMeter(object):\n",
    "    \"\"\"Computes and stores the average and current value\"\"\"\n",
    "    def __init__(self, name, fmt=':1.5f'):\n",
    "        self.name = name\n",
    "        self.fmt = fmt\n",
    "        self.reset()\n",
    "\n",
    "    def reset(self):\n",
    "        self.avg = 0\n",
    "        self.sum = 0\n",
    "        self.count = 0\n",
    "\n",
    "    def update(self, val, n=1):\n",
    "        self.sum += val * n\n",
    "        self.count += n\n",
    "        self.avg = self.sum / self.count\n",
    "\n",
    "    def __str__(self):\n",
    "        fmtstr = '{avg' + self.fmt + '} ({name})'\n",
    "        return fmtstr.format(**self.__dict__)"
   ]
  },
  {
   "cell_type": "code",
   "execution_count": 17,
   "id": "c5ec4ff0-546d-47a0-9421-e5aa30828af1",
   "metadata": {},
   "outputs": [],
   "source": [
    "loss = AverageMeter('Loss')\n",
    "train_loss, val_loss = [], []\n",
    "\n",
    "# Iterate over the dataset <epochs> times\n",
    "for epoch in range(EPOCHS):\n",
    "\n",
    "    # Set the model to training mode\n",
    "    net.train()\n",
    "    # Reset our meters\n",
    "    loss.reset()\n",
    "\n",
    "    # Iterate over batches\n",
    "    for inputs, targets in train_dataloader:\n",
    "\n",
    "        # Remove previous gradients\n",
    "        optimizer.zero_grad()\n",
    "        \n",
    "        # Feed forward the input\n",
    "        outputs = net(inputs)\n",
    "\n",
    "        # Compute the loss and accuracy\n",
    "        loss_batch = criterion(outputs, targets)\n",
    "        loss.update(loss_batch.data)\n",
    "\n",
    "        # Compute the gradients\n",
    "        loss_batch.backward()\n",
    "\n",
    "        # Update parameters\n",
    "        optimizer.step()\n",
    "        \n",
    "    train_loss.append(loss.avg)\n",
    "    \n",
    "    # Validation for each epoch\n",
    "    net.eval()\n",
    "    loss.reset()\n",
    "\n",
    "    for inputs, targets in val_dataloader:\n",
    "\n",
    "        outputs = net(inputs)\n",
    "\n",
    "        loss_batch = criterion(outputs, targets)\n",
    "        loss.update(loss_batch.data)\n",
    "\n",
    "    val_loss.append(loss.avg)"
   ]
  },
  {
   "cell_type": "code",
   "execution_count": 18,
   "id": "09c51485-d4aa-4341-b76f-bc665f84c34a",
   "metadata": {},
   "outputs": [
    {
     "data": {
      "image/png": "[encoded data removed]",
      "text/plain": [
       "<Figure size 640x480 with 1 Axes>"
      ]
     },
     "metadata": {},
     "output_type": "display_data"
    }
   ],
   "source": [
    "plt.plot(train_loss, label='training')\n",
    "plt.plot(val_loss, label='validating')\n",
    "plt.legend()\n",
    "plt.savefig(\"imgs/loss_curve.png\")"
   ]
  },
  {
   "cell_type": "code",
   "execution_count": 19,
   "id": "fd1252d0-21d4-4993-ade7-b109be3c230c",
   "metadata": {},
   "outputs": [
    {
     "data": {
      "image/png": "[encoded data removed]",
      "text/plain": [
       "<Figure size 640x480 with 1 Axes>"
      ]
     },
     "metadata": {},
     "output_type": "display_data"
    }
   ],
   "source": [
    "plt.imshow(X_train[0], cmap='gray')\n",
    "plt.savefig(\"imgs/gray_pic.png\")"
   ]
  },
  {
   "cell_type": "code",
   "execution_count": 20,
   "id": "d0f46011-1439-4c4d-9040-85d6d4a6b66e",
   "metadata": {},
   "outputs": [
    {
     "name": "stdout",
     "output_type": "stream",
     "text": [
      "lambda = 1.0019 +/- 0.0037\n",
      "mu = -0.0006 +/- 0.0002\n",
      "nu = 0.0006 +/- 0.0005\n"
     ]
    }
   ],
   "source": [
    "net.eval()\n",
    "\n",
    "results = net(torch.Tensor(X_test[15:25]).unsqueeze(1)).detach().numpy()\n",
    "\n",
    "lam = np.mean(results[:, 0])\n",
    "lam_std = np.std(results[:, 0])\n",
    "\n",
    "mu = np.mean(results[:, 1])\n",
    "mu_std = np.std(results[:, 1])\n",
    "\n",
    "nu = np.mean(results[:, 2])\n",
    "nu_std = np.std(results[:, 2])\n",
    "\n",
    "print(\"lambda = {:.4f} +/- {:.4f}\".format(lam, lam_std))\n",
    "print(\"mu = {:.4f} +/- {:.4f}\".format(mu, mu_std))\n",
    "print(\"nu = {:.4f} +/- {:.4f}\".format(nu, nu_std))"
   ]
  },
  {
   "cell_type": "code",
   "execution_count": null,
   "id": "728bdb35-6a0a-43d5-9f2b-a5695087db2a",
   "metadata": {},
   "outputs": [],
   "source": []
  }
 ],
 "metadata": {
  "kernelspec": {
   "display_name": "Python 3 (ipykernel)",
   "language": "python",
   "name": "python3"
  },
  "language_info": {
   "codemirror_mode": {
    "name": "ipython",
    "version": 3
   },
   "file_extension": ".py",
   "mimetype": "text/x-python",
   "name": "python",
   "nbconvert_exporter": "python",
   "pygments_lexer": "ipython3",
   "version": "3.9.15"
  }
 },
 "nbformat": 4,
 "nbformat_minor": 5
}
