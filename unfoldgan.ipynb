{
 "cells": [
  {
   "cell_type": "markdown",
   "id": "0889dcba-c05e-4572-9340-2d4425bb675b",
   "metadata": {},
   "source": [
    "# Generative Algorithm for Multidimensional Unfolding"
   ]
  },
  {
   "cell_type": "code",
   "execution_count": 1,
   "id": "28daf005-8210-4894-a4f3-c0f728e92027",
   "metadata": {},
   "outputs": [],
   "source": [
    "import numpy as np\n",
    "import matplotlib.pyplot as plt\n",
    "\n",
    "import uproot\n",
    "import awkward as ak\n",
    "import hist\n",
    "from hist import Hist\n",
    "\n",
    "import numba"
   ]
  },
  {
   "cell_type": "code",
   "execution_count": 2,
   "id": "62e94a87-891b-4d39-a537-01b6d7a4701d",
   "metadata": {},
   "outputs": [],
   "source": [
    "tree = uproot.open(\"data/DY_DUMP_4pi_GMC_Jan08_LD2.root:result_mc\")"
   ]
  },
  {
   "cell_type": "code",
   "execution_count": 3,
   "id": "1dee29fa-b053-4f28-a1f1-2a5dd6a14288",
   "metadata": {},
   "outputs": [],
   "source": [
    "events = ak.zip({\n",
    "    \"weight\": tree[\"weight\"].array(),\n",
    "    \"true_mass\": tree[\"true_mass\"].array(),\n",
    "    \"true_phi\": tree[\"true_phi\"].array(),\n",
    "    \"true_costh\": tree[\"true_costh\"].array(),\n",
    "    \"reco_mass\": tree[\"mass\"].array(),\n",
    "    \"reco_pT\": tree[\"pT\"].array(),\n",
    "    \"reco_xF\": tree[\"xF\"].array(),\n",
    "    \"reco_phi\": tree[\"phi\"].array(),\n",
    "    \"reco_costh\": tree[\"costh\"].array(),\n",
    "})\n",
    "\n",
    "events = events[(events.true_mass > 4.) & (events.true_mass < 8.0)]"
   ]
  },
  {
   "cell_type": "code",
   "execution_count": 6,
   "id": "9e11a57e-9c50-4ddf-9671-306ee19b15c3",
   "metadata": {},
   "outputs": [
    {
     "data": {
      "image/png": "[encoded data removed]",
      "text/plain": [
       "<Figure size 640x480 with 1 Axes>"
      ]
     },
     "metadata": {},
     "output_type": "display_data"
    }
   ],
   "source": [
    "Hist(hist.axis.Regular(20, -np.pi, np.pi, name=\"phi\")).fill(events.true_phi, weight=events.weight).plot(label=\"true\")\n",
    "Hist(hist.axis.Regular(20, -np.pi, np.pi, name=\"phi\")).fill(\n",
    "    events.true_phi[events.reco_mass > 0.0], weight=events.weight[events.reco_mass > 0.0]\n",
    ").plot(label=\"true\")\n",
    "plt.legend()\n",
    "plt.yscale(\"log\")\n",
    "plt.show()"
   ]
  },
  {
   "cell_type": "code",
   "execution_count": null,
   "id": "64f435b9-e290-4a99-bf8f-701992e33b18",
   "metadata": {},
   "outputs": [],
   "source": []
  }
 ],
 "metadata": {
  "kernelspec": {
   "display_name": "Python 3 (ipykernel)",
   "language": "python",
   "name": "python3"
  },
  "language_info": {
   "codemirror_mode": {
    "name": "ipython",
    "version": 3
   },
   "file_extension": ".py",
   "mimetype": "text/x-python",
   "name": "python",
   "nbconvert_exporter": "python",
   "pygments_lexer": "ipython3",
   "version": "3.9.15"
  }
 },
 "nbformat": 4,
 "nbformat_minor": 5
}
